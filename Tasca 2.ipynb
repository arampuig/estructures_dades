{
 "cells": [
  {
   "cell_type": "code",
   "execution_count": null,
   "metadata": {},
   "outputs": [],
   "source": [
    "- Exercici 1\n",
    "Crea una llista que agrupi els mesos de l’any en trimestres (1T: Gener, Febrer i Març, 2T: Abril, Maig, Juny...),\n",
    "és a dir, una llista amb 4 llistes dins."
   ]
  },
  {
   "cell_type": "code",
   "execution_count": 20,
   "metadata": {},
   "outputs": [
    {
     "name": "stdout",
     "output_type": "stream",
     "text": [
      "[['gener', 'febrer', 'març'], ['abril', 'maig', 'juny'], ['julior', 'agost', 'setembre'], ['octubre', 'novembre', 'desembre']]\n"
     ]
    }
   ],
   "source": [
    "T1 = ['gener', 'febrer', 'març']\n",
    "T2 = ['abril', 'maig', 'juny']\n",
    "T3 = ['julior', 'agost', 'setembre']\n",
    "T4 = ['octubre', 'novembre', 'desembre']\n",
    "trimestres = [T1, T2, T3, T4]\n",
    "print(trimestres)"
   ]
  },
  {
   "cell_type": "code",
   "execution_count": null,
   "metadata": {},
   "outputs": [],
   "source": [
    "- Exercici 2\n",
    "Crea un codi que et permeti accedir a:\n",
    "\n",
    "El segon més del primer trimestre\n",
    "Els mesos del primer trimestre\n",
    "Setembre i octubre"
   ]
  },
  {
   "cell_type": "code",
   "execution_count": 24,
   "metadata": {},
   "outputs": [
    {
     "name": "stdout",
     "output_type": "stream",
     "text": [
      "febrer\n",
      "['gener', 'febrer', 'març']\n",
      "setembre octubre\n"
     ]
    }
   ],
   "source": [
    "print(trimestres[0][1])\n",
    "print(trimestres[0])\n",
    "print(trimestres[2][2], trimestres[3][0])"
   ]
  },
  {
   "cell_type": "code",
   "execution_count": null,
   "metadata": {},
   "outputs": [],
   "source": [
    "- Exercici 3\n",
    "Crea una llista amb nombres desordenats i respon a les següents preguntes:\n",
    "\n",
    "Quants números hi ha?\n",
    "Quantes vegades apareix el número 3\n",
    "Quantes vegades apareixen els nombres 3 i 4?\n",
    "Quin és el número més gran?\n",
    "Quins són els 3 números més petits?\n",
    "Quin és el rang d’aquesta llista?"
   ]
  },
  {
   "cell_type": "code",
   "execution_count": 55,
   "metadata": {},
   "outputs": [
    {
     "name": "stdout",
     "output_type": "stream",
     "text": [
      "8\n",
      "0\n",
      "0\n",
      "67\n",
      "-20 0 2\n",
      "87\n"
     ]
    }
   ],
   "source": [
    "ulist = [2, 67, 8, -20, 9, 0, 14, 5]\n",
    "\n",
    "number_of_elements = len(ulist)\n",
    "print(number_of_elements)\n",
    "\n",
    "num_tres = ulist.count(3)\n",
    "print(num_tres)\n",
    "\n",
    "tres_i_quatre =ulist.count((3,4))\n",
    "print(tres_i_quatre)\n",
    "\n",
    "mes_gran = max(ulist)\n",
    "print(mes_gran)\n",
    "\n",
    "ulist.sort()\n",
    "print(ulist[0],ulist[1],ulist[2])\n",
    "\n",
    "x = min(ulist)\n",
    "y = max(ulist)\n",
    "rang = y - x\n",
    "print(rang)\n"
   ]
  },
  {
   "cell_type": "code",
   "execution_count": null,
   "metadata": {},
   "outputs": [],
   "source": [
    "- Exercici 4\n",
    "Crea un diccionari de la següent forma i respon a les preguntes:\n",
    "\n",
    "compra = { \"Pomes\" : {\"Qty\": 5, \"€\": 0.42}, \"Peres\" : {\"Qty\": 3, \"€\": 0.66} }\n",
    "\n",
    "Afegeix alguna fruita més\n",
    "Quant han costat les peres en total?\n",
    "Quantes fruites hem comprat en total?\n",
    "Quina és la fruita més cara?"
   ]
  },
  {
   "cell_type": "code",
   "execution_count": 53,
   "metadata": {},
   "outputs": [],
   "source": [
    "compra = { \"Pomes\" : {\"Qty\": 5, \"€\": 0.42}, \"Peres\" : {\"Qty\": 3, \"€\": 0.66} }"
   ]
  },
  {
   "cell_type": "code",
   "execution_count": 75,
   "metadata": {},
   "outputs": [],
   "source": [
    "compra[\"Mangos\"] = {\"Qty\": 1, \"€\": 2.5}"
   ]
  },
  {
   "cell_type": "code",
   "execution_count": 78,
   "metadata": {},
   "outputs": [
    {
     "name": "stdout",
     "output_type": "stream",
     "text": [
      "dict_keys(['Pomes', 'Peres', 'Mangos'])\n"
     ]
    }
   ],
   "source": [
    "x = compra.keys()\n",
    "print(x)"
   ]
  },
  {
   "cell_type": "code",
   "execution_count": 69,
   "metadata": {},
   "outputs": [
    {
     "name": "stdout",
     "output_type": "stream",
     "text": [
      "1.98\n"
     ]
    }
   ],
   "source": [
    "peres = compra[\"Peres\"]\n",
    "quantitat = peres[\"Qty\"]\n",
    "preu = peres[\"€\"]\n",
    "\n",
    "preu_peres = quantitat * preu\n",
    "print(preu_peres)"
   ]
  },
  {
   "cell_type": "code",
   "execution_count": 80,
   "metadata": {},
   "outputs": [
    {
     "name": "stdout",
     "output_type": "stream",
     "text": [
      "9\n"
     ]
    }
   ],
   "source": [
    "peres = compra[\"Peres\"]\n",
    "quantitat_peres = peres[\"Qty\"]\n",
    "pomes = compra[\"Pomes\"]\n",
    "quantitat_pomes = pomes[\"Qty\"]\n",
    "mangos = compra[\"Mangos\"]\n",
    "quantitat_mangos = mangos[\"Qty\"]\n",
    "\n",
    "quantitat_total = quantitat_peres + quantitat_pomes + quantitat_mangos\n",
    "print(quantitat_total)"
   ]
  },
  {
   "cell_type": "code",
   "execution_count": 100,
   "metadata": {},
   "outputs": [
    {
     "name": "stdout",
     "output_type": "stream",
     "text": [
      "Mangos\n"
     ]
    }
   ],
   "source": [
    "peres = compra[\"Peres\"]\n",
    "preu_peres = peres[\"€\"]\n",
    "#print(peres)\n",
    "pomes = compra[\"Pomes\"]\n",
    "preu_pomes = pomes[\"€\"]\n",
    "#print(pomes)\n",
    "mangos = compra[\"Mangos\"]\n",
    "preu_mangos = mangos[\"€\"]\n",
    "#print(mangos)\n",
    "\n",
    "def fruita_mes_cara(preu_peres, preu_pomes, preu_mangos):\n",
    "    x = 0\n",
    "    if preu_peres > preu_mangos:\n",
    "        x = preu_peres\n",
    "        if x > preu_pomes:\n",
    "            print(\"Peres\")\n",
    "            \n",
    "    if preu_pomes > preu_mangos:\n",
    "        x = preu_pomes\n",
    "        if x > preu_peres:\n",
    "            print(\"Pomes\")\n",
    "    else:\n",
    "        print(\"Mangos\")\n",
    "        \n",
    "fruita_mes_cara(preu_peres, preu_pomes, preu_mangos)\n",
    "                    "
   ]
  },
  {
   "cell_type": "code",
   "execution_count": null,
   "metadata": {},
   "outputs": [],
   "source": []
  }
 ],
 "metadata": {
  "kernelspec": {
   "display_name": "Python 3",
   "language": "python",
   "name": "python3"
  },
  "language_info": {
   "codemirror_mode": {
    "name": "ipython",
    "version": 3
   },
   "file_extension": ".py",
   "mimetype": "text/x-python",
   "name": "python",
   "nbconvert_exporter": "python",
   "pygments_lexer": "ipython3",
   "version": "3.8.5"
  }
 },
 "nbformat": 4,
 "nbformat_minor": 4
}
